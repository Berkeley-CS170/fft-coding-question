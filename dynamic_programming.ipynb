{
 "cells": [
  {
   "cell_type": "markdown",
   "metadata": {},
   "source": [
    "# DP Coding Assignment: Maximum Subarray Sum"
   ]
  },
  {
   "cell_type": "code",
   "execution_count": null,
   "metadata": {
    "collapsed": true
   },
   "outputs": [],
   "source": [
    "import random\n",
    "import time\n",
    "import matplotlib.pyplot as plt"
   ]
  },
  {
   "cell_type": "markdown",
   "metadata": {},
   "source": [
    "**TODO: Move this cell to HW pdf**\n",
    "\n",
    "In this question, we consider the maximum subarray sum problem. This is a classic dynamic programming problem and also happens to be asked somewhat frequently during coding interviews. \n",
    "\n",
    "The setup of the problem is as follows: You are given an array $A$ of numbers. You want to find the subarray sum of the subarray, i.e. slice of the array, with the largest sum. In other words, you want to find\n",
    "$$\\max_{i,j} \\sum_{k = i}^j A[k].$$\n",
    "\n",
    "For example, the array $[-1, 2, 6, -3, 5, -6, 3]$ has a maximum subarray sum of $10$, which is achieved by the subarray $[2,6,-3,5]$."
   ]
  },
  {
   "cell_type": "markdown",
   "metadata": {},
   "source": [
    "## Implementation"
   ]
  },
  {
   "cell_type": "markdown",
   "metadata": {},
   "source": [
    "In the following cell, implement your dynamic programming algorithm from part (a)."
   ]
  },
  {
   "cell_type": "code",
   "execution_count": null,
   "metadata": {},
   "outputs": [],
   "source": [
    "def max_subarray_sum(A):\n",
    "    # Initializing M. Recall M[i] contains the maximum sum of all subarrays ending with item i.\n",
    "    M = [None for _ in range(len(A))]\n",
    "    \n",
    "    # Base Case\n",
    "    M[0] = # YOUR SOLUTION HERE\n",
    "    \n",
    "    for i in range(1, len(M)):\n",
    "        M[i] = # YOUR SOLUTION HERE\n",
    "        \n",
    "    return max(0, max(M))"
   ]
  },
  {
   "cell_type": "markdown",
   "metadata": {},
   "source": [
    "Now, let's test your implementation. Run the two cells below and check that your algorithm's output matches the naive algorithm's output on some random inputs, and that empty subarrays are allowed."
   ]
  },
  {
   "cell_type": "code",
   "execution_count": null,
   "metadata": {
    "collapsed": true
   },
   "outputs": [],
   "source": [
    "def max_subarray_sum_naive(A):\n",
    "    maxSum = 0\n",
    "    n = len(A)\n",
    "    for i in range(n):\n",
    "        for j in range(i, n):\n",
    "            maxSum = max(maxSum, sum(A[i:j+1]))\n",
    "    return maxSum"
   ]
  },
  {
   "cell_type": "code",
   "execution_count": null,
   "metadata": {
    "collapsed": true
   },
   "outputs": [],
   "source": [
    "for i in range(10):\n",
    "    A = [random.uniform(-1000, 1000) for i in range(500)]\n",
    "    print('Optimized Answer: {0}, Naive Answer: {1}'.format(max_subarray_sum(A), max_subarray_sum_naive(A)))\n",
    "    assert max_subarray_sum(A) == max_subarray_sum_naive(A)\n",
    "\n",
    "assert max_subarray_sum([-1, -1, -1, -1, -1]) == 0\n",
    "print('Test passed')"
   ]
  },
  {
   "cell_type": "markdown",
   "metadata": {},
   "source": [
    "**What is the runtime complexity of your solution? How does it compare to the naive version?**"
   ]
  },
  {
   "cell_type": "markdown",
   "metadata": {},
   "source": [
    "*YOUR ANSWER HERE*"
   ]
  },
  {
   "cell_type": "markdown",
   "metadata": {},
   "source": [
    "Run the following cell to compare the runtimes of your DP algorithm and the naive algorithm. Check that the runtime and speedup graphs have the asymptotic behavior that you expected in your answer above (don't be worried if the graphs are a bit unsmooth as long as the overall trend is OK)."
   ]
  },
  {
   "cell_type": "code",
   "execution_count": null,
   "metadata": {
    "collapsed": true
   },
   "outputs": [],
   "source": [
    "def record(array, value, name):\n",
    "    array.append(value)\n",
    "    print(\"%s%f\" % (name, value))\n",
    "\n",
    "dp_times = []\n",
    "naive_times = []\n",
    "speed_ups = []\n",
    "\n",
    "input_lengths = range(100, 2700, 200)\n",
    "\n",
    "for n in input_lengths:\n",
    "    print(\"\\narray length: %d\" % n)\n",
    "    A = [random.uniform(-1000, 1000) for i in range(n)]\n",
    "    time1 = time.time()\n",
    "    dp_res = max_subarray_sum(A)\n",
    "    time2 = time.time()\n",
    "    dp_time = time2 - time1\n",
    "    record(dp_times, dp_time, \"DP time:   \")\n",
    "    naive_res = max_subarray_sum_naive(A)\n",
    "    time3 = time.time()\n",
    "    naive_time = time3 - time2\n",
    "    record(naive_times, naive_time, \"naive time: \")\n",
    "    assert dp_res == naive_res\n",
    "    speed_up = naive_time / dp_time\n",
    "    record(speed_ups, speed_up, \"speed up: \")\n",
    "\n",
    "plt.plot(input_lengths, [t * 10000 for t in dp_times], label=\"DP x 10000\")\n",
    "plt.plot(input_lengths, naive_times, label=\"Naive\")\n",
    "plt.xlabel(\"Input Array Length\")\n",
    "plt.ylabel(\"Run Time (seconds)\")\n",
    "plt.legend(loc=\"upper left\")\n",
    "plt.title(\"Maximum Subarray Sum Runtime\")\n",
    "\n",
    "plt.figure()\n",
    "plt.plot(input_lengths, speed_ups)\n",
    "plt.xlabel(\"Input Size\")\n",
    "plt.ylabel(\"Speedup\")\n",
    "plt.title(\"DP Maximum Subarray Sum Speedup\")"
   ]
  }
 ],
 "metadata": {
  "kernelspec": {
   "display_name": "Python 3",
   "language": "python",
   "name": "python3"
  },
  "language_info": {
   "codemirror_mode": {
    "name": "ipython",
    "version": 3
   },
   "file_extension": ".py",
   "mimetype": "text/x-python",
   "name": "python",
   "nbconvert_exporter": "python",
   "pygments_lexer": "ipython3",
   "version": "3.6.8"
  }
 },
 "nbformat": 4,
 "nbformat_minor": 4
}
