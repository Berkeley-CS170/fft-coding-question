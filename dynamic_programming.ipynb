{
 "cells": [
  {
   "cell_type": "markdown",
   "metadata": {},
   "source": [
    "# DP Coding Assignment: Maximum Subarray Sum"
   ]
  },
  {
   "cell_type": "code",
   "execution_count": 4,
   "metadata": {},
   "outputs": [],
   "source": [
    "import random\n",
    "import time\n",
    "import matplotlib.pyplot as plt"
   ]
  },
  {
   "cell_type": "markdown",
   "metadata": {},
   "source": [
    "## Part (b): Implementation"
   ]
  },
  {
   "cell_type": "markdown",
   "metadata": {},
   "source": [
    "In the following cell, implement your dynamic programming algorithm from part (a)."
   ]
  },
  {
   "cell_type": "code",
   "execution_count": 10,
   "metadata": {},
   "outputs": [],
   "source": [
    "def max_subarray_sum(A):\n",
    "    # Initializing f. Recall f[i] contains the maximum sum of all subarrays ending with item i.\n",
    "    f = [None for _ in range(len(A))]\n",
    "    \n",
    "    # Base Case\n",
    "    f[0] = # YOUR SOLUTION HERE\n",
    "    \n",
    "    for i in range(1, len(f)):\n",
    "        f[i] = # YOUR SOLUTION HERE\n",
    "        \n",
    "    return max(f)"
   ]
  },
  {
   "cell_type": "markdown",
   "metadata": {},
   "source": [
    "Now, let's test your implementation. Run the two cells below and check that your algorithm's output matches the naive algorithm's output on some random inputs."
   ]
  },
  {
   "cell_type": "code",
   "execution_count": 11,
   "metadata": {},
   "outputs": [],
   "source": [
    "def max_subarray_sum_naive(A):\n",
    "    maxSum = 0\n",
    "    n = len(A)\n",
    "    for i in range(n):\n",
    "        for j in range(i, n):\n",
    "            maxSum = max(maxSum, sum(A[i:j+1]))\n",
    "    return maxSum"
   ]
  },
  {
   "cell_type": "code",
   "execution_count": 18,
   "metadata": {},
   "outputs": [
    {
     "name": "stdout",
     "output_type": "stream",
     "text": [
      "Optimized Answer: 22171.815015554876, Naive Answer: 22171.815015554876\n",
      "Optimized Answer: 16071.714260885039, Naive Answer: 16071.714260885039\n",
      "Optimized Answer: 11702.22158104664, Naive Answer: 11702.22158104664\n",
      "Optimized Answer: 28514.653367923114, Naive Answer: 28514.653367923114\n",
      "Optimized Answer: 15168.325547670343, Naive Answer: 15168.325547670343\n",
      "Optimized Answer: 7098.743879358556, Naive Answer: 7098.743879358556\n",
      "Optimized Answer: 20838.18249117519, Naive Answer: 20838.18249117519\n",
      "Optimized Answer: 11962.234154194046, Naive Answer: 11962.234154194046\n",
      "Optimized Answer: 22122.24034656568, Naive Answer: 22122.24034656568\n",
      "Optimized Answer: 23402.985044004, Naive Answer: 23402.985044004\n",
      "Running additional test cases...\n"
     ]
    },
    {
     "ename": "AssertionError",
     "evalue": "",
     "output_type": "error",
     "traceback": [
      "\u001b[0;31m---------------------------------------------------------------------------\u001b[0m",
      "\u001b[0;31mAssertionError\u001b[0m                            Traceback (most recent call last)",
      "\u001b[0;32m<ipython-input-18-3c3bf14522c2>\u001b[0m in \u001b[0;36m<module>\u001b[0;34m\u001b[0m\n\u001b[1;32m      5\u001b[0m     \u001b[0;32mif\u001b[0m \u001b[0mi\u001b[0m \u001b[0;34m==\u001b[0m \u001b[0;36m10\u001b[0m\u001b[0;34m:\u001b[0m\u001b[0;34m\u001b[0m\u001b[0;34m\u001b[0m\u001b[0m\n\u001b[1;32m      6\u001b[0m         \u001b[0mprint\u001b[0m\u001b[0;34m(\u001b[0m\u001b[0;34m'Running additional test cases...'\u001b[0m\u001b[0;34m)\u001b[0m\u001b[0;34m\u001b[0m\u001b[0;34m\u001b[0m\u001b[0m\n\u001b[0;32m----> 7\u001b[0;31m     \u001b[0;32massert\u001b[0m \u001b[0mmax_subarray_sum\u001b[0m\u001b[0;34m(\u001b[0m\u001b[0mA\u001b[0m\u001b[0;34m)\u001b[0m \u001b[0;34m==\u001b[0m \u001b[0mmax_subarray_sum_naive\u001b[0m\u001b[0;34m(\u001b[0m\u001b[0mA\u001b[0m\u001b[0;34m)\u001b[0m\u001b[0;34m\u001b[0m\u001b[0;34m\u001b[0m\u001b[0m\n\u001b[0m\u001b[1;32m      8\u001b[0m \u001b[0;34m\u001b[0m\u001b[0m\n\u001b[1;32m      9\u001b[0m \u001b[0mprint\u001b[0m\u001b[0;34m(\u001b[0m\u001b[0;34m'Test passed'\u001b[0m\u001b[0;34m)\u001b[0m\u001b[0;34m\u001b[0m\u001b[0;34m\u001b[0m\u001b[0m\n",
      "\u001b[0;31mAssertionError\u001b[0m: "
     ]
    }
   ],
   "source": [
    "for i in range(1000):\n",
    "    A = [random.uniform(-1000, 1000) for i in range(500)]\n",
    "    if i < 10:\n",
    "        print('Optimized Answer: {0}, Naive Answer: {1}'.format(max_subarray_sum(A), max_subarray_sum_naive(A)))\n",
    "    if i == 10:\n",
    "        print('Running additional test cases...')\n",
    "    assert max_subarray_sum(A) == max_subarray_sum_naive(A)\n",
    "\n",
    "print('Test passed')"
   ]
  },
  {
   "cell_type": "markdown",
   "metadata": {},
   "source": [
    "**Compare your runtime from part (a) to the runtime of the naive algorithm.**"
   ]
  },
  {
   "cell_type": "markdown",
   "metadata": {},
   "source": [
    "*YOUR ANSWER HERE*"
   ]
  },
  {
   "cell_type": "markdown",
   "metadata": {},
   "source": [
    "Run the following cell to compare the runtimes of your DP algorithm and the naive algorithm. Check that the runtime and speedup graphs have the asymptotic behavior that you expected in your answer above (don't be worried if the graphs are a bit unsmooth as long as the overall trend is OK)."
   ]
  },
  {
   "cell_type": "code",
   "execution_count": null,
   "metadata": {
    "collapsed": true
   },
   "outputs": [],
   "source": [
    "def record(array, value, name):\n",
    "    array.append(value)\n",
    "    print(\"%s%f\" % (name, value))\n",
    "\n",
    "dp_times = []\n",
    "naive_times = []\n",
    "speed_ups = []\n",
    "\n",
    "input_lengths = range(100, 2700, 200)\n",
    "\n",
    "for n in input_lengths:\n",
    "    print(\"\\narray length: %d\" % n)\n",
    "    A = [random.uniform(-1000, 1000) for i in range(n)]\n",
    "    time1 = time.time()\n",
    "    dp_res = max_subarray_sum(A)\n",
    "    time2 = time.time()\n",
    "    dp_time = time2 - time1\n",
    "    record(dp_times, dp_time, \"DP time:   \")\n",
    "    naive_res = max_subarray_sum_naive(A)\n",
    "    time3 = time.time()\n",
    "    naive_time = time3 - time2\n",
    "    record(naive_times, naive_time, \"naive time: \")\n",
    "    assert dp_res == naive_res\n",
    "    speed_up = naive_time / dp_time\n",
    "    record(speed_ups, speed_up, \"speed up: \")\n",
    "\n",
    "plt.plot(input_lengths, [t * 10000 for t in dp_times], label=\"DP x 10000\")\n",
    "plt.plot(input_lengths, naive_times, label=\"Naive\")\n",
    "plt.xlabel(\"Input Array Length\")\n",
    "plt.ylabel(\"Run Time (seconds)\")\n",
    "plt.legend(loc=\"upper left\")\n",
    "plt.title(\"Maximum Subarray Sum Runtime\")\n",
    "\n",
    "plt.figure()\n",
    "plt.plot(input_lengths, speed_ups)\n",
    "plt.xlabel(\"Input Size\")\n",
    "plt.ylabel(\"Speedup\")\n",
    "plt.title(\"DP Maximum Subarray Sum Speedup\")"
   ]
  }
 ],
 "metadata": {
  "kernelspec": {
   "display_name": "Python 3",
   "language": "python",
   "name": "python3"
  },
  "language_info": {
   "codemirror_mode": {
    "name": "ipython",
    "version": 3
   },
   "file_extension": ".py",
   "mimetype": "text/x-python",
   "name": "python",
   "nbconvert_exporter": "python",
   "pygments_lexer": "ipython3",
   "version": "3.8.5"
  }
 },
 "nbformat": 4,
 "nbformat_minor": 4
}
