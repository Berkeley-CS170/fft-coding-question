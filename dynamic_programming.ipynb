{
 "cells": [
  {
   "cell_type": "markdown",
   "metadata": {},
   "source": [
    "# Dynamic Programming Coding Assignment"
   ]
  },
  {
   "cell_type": "code",
   "execution_count": null,
   "metadata": {
    "collapsed": true
   },
   "outputs": [],
   "source": [
    "import random\n",
    "import time\n",
    "import matplotlib.pyplot as plt"
   ]
  },
  {
   "cell_type": "markdown",
   "metadata": {},
   "source": [
    "## Part 1: Maximum Subarray Sum"
   ]
  },
  {
   "cell_type": "markdown",
   "metadata": {},
   "source": [
    "In this question, we consider the maximum subarray sum problem. This is a classic dynamic programming problem and also happens to be asked somewhat frequently during coding interviews. \n",
    "\n",
    "The setup of the problem is as follows: You are given an array $A$ of numbers. You want to find the subarray sum of the subarray, i.e. slice of the array, with the largest sum. In other words, you want to find\n",
    "$$\\max_{i,j} \\sum_{k = i}^j A[k].$$\n",
    "\n",
    "For example, the array $[-1, 2, 6, -3, 5, -6, 3]$ has a maximum subarray sum of $10$, which is achieved by the subarray $[2,6,-3,5]$.\n",
    "\n",
    "In the following cell, implement a dynamic programming algorithm that computes the maximum subarray sum of an array.\n",
    "\n",
    "*Note: the empty subarray [] is a valid subarray and has a sum of 0.*"
   ]
  },
  {
   "cell_type": "code",
   "execution_count": null,
   "metadata": {
    "collapsed": true
   },
   "outputs": [],
   "source": [
    "def max_subarray_sum(A):\n",
    "    # your solution here"
   ]
  },
  {
   "cell_type": "markdown",
   "metadata": {},
   "source": [
    "Now, let's test your implementation. Run the two cells below and check that your algorithm's output matches the naive algorithm's output on some random inputs, and that empty subarrays are allowed."
   ]
  },
  {
   "cell_type": "code",
   "execution_count": null,
   "metadata": {
    "collapsed": true
   },
   "outputs": [],
   "source": [
    "def max_subarray_sum_naive(A):\n",
    "    maxSum = 0\n",
    "    n = len(A)\n",
    "    for i in range(n):\n",
    "        for j in range(i, n):\n",
    "            maxSum = max(maxSum, sum(A[i:j+1]))\n",
    "    return maxSum"
   ]
  },
  {
   "cell_type": "code",
   "execution_count": null,
   "metadata": {},
   "outputs": [],
   "source": [
    "for i in range(10):\n",
    "    A = [random.uniform(-1000, 1000) for i in range(500)]\n",
    "    print('Optimized Answer: {0}, Naive Answer: {1}'.format(max_subarray_sum(A), max_subarray_sum_naive(A)))\n",
    "    assert max_subarray_sum(A) == max_subarray_sum_naive(A)\n",
    "\n",
    "assert max_subarray_sum([-1, -1, -1, -1, -1]) == 0\n",
    "print('Test passed')"
   ]
  },
  {
   "cell_type": "markdown",
   "metadata": {},
   "source": [
    "**What is the runtime complexity of your solution? How does it compare to the naive version?**"
   ]
  },
  {
   "cell_type": "markdown",
   "metadata": {},
   "source": [
    "*YOUR ANSWER HERE*"
   ]
  },
  {
   "cell_type": "markdown",
   "metadata": {},
   "source": [
    "Run the following cell to compare the runtimes of your DP algorithm and the naive algorithm. Check that the runtime and speedup graphs have the asymptotic behavior that you expected in your answer above (don't be worried if the graphs are a bit unsmooth as long as the overall trend is OK)."
   ]
  },
  {
   "cell_type": "code",
   "execution_count": null,
   "metadata": {},
   "outputs": [],
   "source": [
    "def record(array, value, name):\n",
    "    array.append(value)\n",
    "    print(\"%s%f\" % (name, value))\n",
    "\n",
    "dp_times = []\n",
    "naive_times = []\n",
    "speed_ups = []\n",
    "\n",
    "input_lengths = range(100, 2700, 200)\n",
    "\n",
    "for n in input_lengths:\n",
    "    print(\"\\narray length: %d\" % n)\n",
    "    A = [random.uniform(-1000, 1000) for i in range(n)]\n",
    "    time1 = time.time()\n",
    "    dp_res = max_subarray_sum(A)\n",
    "    time2 = time.time()\n",
    "    dp_time = time2 - time1\n",
    "    record(dp_times, dp_time, \"DP time:   \")\n",
    "    naive_res = max_subarray_sum_naive(A)\n",
    "    time3 = time.time()\n",
    "    naive_time = time3 - time2\n",
    "    record(naive_times, naive_time, \"naive time: \")\n",
    "    assert dp_res == naive_res\n",
    "    speed_up = naive_time / dp_time\n",
    "    record(speed_ups, speed_up, \"speed up: \")\n",
    "\n",
    "plt.plot(input_lengths, [t * 10000 for t in dp_times], label=\"DP x 10000\")\n",
    "plt.plot(input_lengths, naive_times, label=\"Naive\")\n",
    "plt.xlabel(\"Input Array Length\")\n",
    "plt.ylabel(\"Run Time (seconds)\")\n",
    "plt.legend(loc=\"upper left\")\n",
    "plt.title(\"Maximum Subarray Sum Runtime\")\n",
    "\n",
    "plt.figure()\n",
    "plt.plot(input_lengths, speed_ups)\n",
    "plt.xlabel(\"Input Size\")\n",
    "plt.ylabel(\"Speedup\")\n",
    "plt.title(\"DP Maximum Subarray Sum Speedup\")"
   ]
  },
  {
   "cell_type": "markdown",
   "metadata": {},
   "source": [
    "## Part 2: Linear Hopscotch"
   ]
  },
  {
   "cell_type": "markdown",
   "metadata": {},
   "source": [
    "Now, we want to solve a harder problem using dynamic programming. In particular, we want to help Wes, who is playing a linear version of hopscotch (i.e. all the squares are on a line). Wes stands before the starting line of a line of $N$ squares labeled $0, 1, \\dots, N - 2, N - 1$. If Wes lands on square $i$ on one of his jumps, he earns $s[i]$ points.\n",
    "\n",
    "Some additional rules:\n",
    "* For each jump, Wes can jump at most a distance equivalent to $M$ squares, and he cannot jump backwards or stay in the same square.\n",
    "* Wes must cross the finish line on exactly the $T$th jump.\n",
    "\n",
    "In the following cell, implement a dynamic programming algorithm that computes Wes's highest possible score.\n",
    "\n",
    "*Note: Don't worry about the edge case where you can't reach the finish line in $T$ steps.*"
   ]
  },
  {
   "cell_type": "code",
   "execution_count": null,
   "metadata": {
    "collapsed": true
   },
   "outputs": [],
   "source": [
    "def hopscotch(squares, m, t):\n",
    "    n = len(squares)\n",
    "    squares.append(0) # So that squares[n] represents the finish line.\n",
    "    \n",
    "    # Initialize ms, the max scores array:\n",
    "    ms = [[-float('inf') for _ in range(t+1)] for _ in range(n+1)]\n",
    "    \n",
    "    # Set the base cases in ms:\n",
    "    # your solution here\n",
    "    \n",
    "    # Fill in the rest of ms:\n",
    "    # your solution here\n",
    "                \n",
    "    return ms[n][t]"
   ]
  },
  {
   "cell_type": "markdown",
   "metadata": {},
   "source": [
    "Now, let's test your solution:"
   ]
  },
  {
   "cell_type": "code",
   "execution_count": null,
   "metadata": {},
   "outputs": [],
   "source": [
    "assert 5 == hopscotch([1, 1, -1, 1, 1, -1, 1], m=2, t=6)\n",
    "assert 12 == hopscotch([3, 4, -1, -100, 1, 8, 7, 6], m=5, t=3)\n",
    "assert 32 == hopscotch([-1, 5, -4, 1, 7, 6, 12, 1, -1], m=4, t=7)\n",
    "print('Test passed')"
   ]
  }
 ],
 "metadata": {
  "kernelspec": {
   "display_name": "Python 3",
   "language": "python",
   "name": "python3"
  },
  "language_info": {
   "codemirror_mode": {
    "name": "ipython",
    "version": 3
   },
   "file_extension": ".py",
   "mimetype": "text/x-python",
   "name": "python",
   "nbconvert_exporter": "python",
   "pygments_lexer": "ipython3",
   "version": "3.6.8"
  }
 },
 "nbformat": 4,
 "nbformat_minor": 4
}
