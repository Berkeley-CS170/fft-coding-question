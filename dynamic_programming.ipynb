{
 "cells": [
  {
   "cell_type": "markdown",
   "metadata": {},
   "source": [
    "# Dynamic Programming Coding Assignment"
   ]
  },
  {
   "cell_type": "code",
   "execution_count": null,
   "metadata": {
    "collapsed": true
   },
   "outputs": [],
   "source": [
    "import random"
   ]
  },
  {
   "cell_type": "markdown",
   "metadata": {},
   "source": [
    "## Part 1: Maximum Subarray Sum"
   ]
  },
  {
   "cell_type": "markdown",
   "metadata": {},
   "source": [
    "In this question, we want to consider the maximum subarray sum problem. This is a classic dynamic programming problem and also happens to be asked somewhat frequently during coding interviews. \n",
    "\n",
    "The setup of the problem is as follows: You are given an array $A$ of numbers. You want to find the subarray sum of the subarray, i.e. slice of the array, with the largest sum. In other words, you want to find\n",
    "$$\\max_{i,j} \\sum_{k = i}^j A[k].$$\n",
    "\n",
    "For example, the array $[-1, 2, 6, -3, 5, -6, 3]$ has a maximum subarray sum of $10$, which is achieved by the subarray $[2,6,-3,5]$.\n",
    "\n",
    "In the following cell, implement a dynamic programming algorithm that computes this maximums subarray sum. (We allow empty subarrays)."
   ]
  },
  {
   "cell_type": "code",
   "execution_count": null,
   "metadata": {
    "collapsed": true
   },
   "outputs": [],
   "source": [
    "def max_subarray_sum(A):\n",
    "     # your solution here"
   ]
  },
  {
   "cell_type": "markdown",
   "metadata": {},
   "source": [
    "Now, we want to test our implementation. To do this, we have provided a naive version of subarray sum that simply computes all possible subarray sums. The cell after runs a bunch of randomized tests. Please run it to check that your algorithm works as expected."
   ]
  },
  {
   "cell_type": "code",
   "execution_count": null,
   "metadata": {
    "collapsed": true
   },
   "outputs": [],
   "source": [
    "def max_subarray_sum_naive(A):\n",
    "    maxSum = 0\n",
    "    n = len(A)\n",
    "    for i in range(n):\n",
    "        for j in range(n):\n",
    "            if i > j:\n",
    "                continue\n",
    "            maxSum = max(maxSum, sum(A[i : j+1]))\n",
    "    return maxSum"
   ]
  },
  {
   "cell_type": "code",
   "execution_count": null,
   "metadata": {
    "collapsed": true
   },
   "outputs": [],
   "source": [
    "for i in range(10):\n",
    "    A = [random.uniform(-1000, 1000) for i in range(500)]\n",
    "    print('Optimized Answer: {0}, Naive: Answer: {1}'.format(max_subarray_sum(A), max_subarray_sum_naive(A)))\n",
    "    assert max_subarray_sum(A) == max_subarray_sum_naive(A)\n",
    "\n",
    "# run more examples without output\n",
    "for i in range(100):\n",
    "    A = [random.uniform(-1000, 1000) for i in range(500)]\n",
    "    assert max_subarray_sum(A) == max_subarray_sum_naive(A)\n",
    "print('Test passed')"
   ]
  },
  {
   "cell_type": "markdown",
   "metadata": {},
   "source": [
    "**What is the runtime complexity of your solution? How does it compare to the naive version?**"
   ]
  },
  {
   "cell_type": "markdown",
   "metadata": {},
   "source": [
    "_YOUR ANSWER HERE_"
   ]
  },
  {
   "cell_type": "markdown",
   "metadata": {},
   "source": [
    "## Part 2: Linear Hopscotch"
   ]
  },
  {
   "cell_type": "markdown",
   "metadata": {},
   "source": [
    "Now, we want to solve a harder problem using dynamic programming. In particular, we want to help Wes, who is playing a linear version of hopscotch (i.e. all the squares are on a line). Wes stands before the starting line of a line of $N$ squares, where each square has a score of $s_i$ if Wes lands on it on a jump.\n",
    "\n",
    "Some additional rules:\n",
    "* For each jump, Wes can jump at most a distance equivalent to $M$ squares, and he cannot jump backwards or stay in the same square.\n",
    "* Wes has to jump exactly $T$ times to get beyond the finish line.\n",
    "\n",
    "What's the max score possible?\n",
    "\n",
    "Note: Don't worry about the edge case where you can't reach the finish line in $T$ steps."
   ]
  },
  {
   "cell_type": "code",
   "execution_count": null,
   "metadata": {
    "collapsed": true
   },
   "outputs": [],
   "source": [
    "def hopscotch(squares, m, t):\n",
    "    n = len(squares)\n",
    "    squares.append(0) # Ask yourself: Why do we need this?\n",
    "    \n",
    "    # Initialize s, the solution array:\n",
    "    init = # YOUR SOLUTION HERE\n",
    "    s = [[init for _ in range(t+1)] for _ in range(n+1)]\n",
    "    \n",
    "    # Set the base cases in f:\n",
    "    # YOUR SOLUTION HERE\n",
    "    \n",
    "    # Fill in the rest of f:\n",
    "    # YOUR SOLUTION HERE\n",
    "                \n",
    "    return f[n][t]"
   ]
  },
  {
   "cell_type": "markdown",
   "metadata": {},
   "source": [
    "Now, we want to test your solution. Make sure that your solution indeed returns the values that we would expect:"
   ]
  },
  {
   "cell_type": "code",
   "execution_count": null,
   "metadata": {
    "collapsed": true
   },
   "outputs": [],
   "source": [
    "assert 12 == hopscotch([3, 4, -1, -100, 1, 8, 7, 6], 5, 3)\n",
    "assert 32 == hopscotch([-1, 5, -4, 1, 7, 6, 12, 1, -1], 4, 7)"
   ]
  },
  {
   "cell_type": "markdown",
   "metadata": {},
   "source": [
    "**What is the runtime complexity of your solution? How does it compare to the naive version?**"
   ]
  },
  {
   "cell_type": "markdown",
   "metadata": {},
   "source": [
    "_YOUR ANSWER HERE_"
   ]
  }
 ],
 "metadata": {
  "kernelspec": {
   "display_name": "Python 3",
   "language": "python",
   "name": "python3"
  },
  "language_info": {
   "codemirror_mode": {
    "name": "ipython",
    "version": 3
   },
   "file_extension": ".py",
   "mimetype": "text/x-python",
   "name": "python",
   "nbconvert_exporter": "python",
   "pygments_lexer": "ipython3",
   "version": "3.6.8"
  }
 },
 "nbformat": 4,
 "nbformat_minor": 4
}
